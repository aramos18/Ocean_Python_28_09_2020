{
  "nbformat": 4,
  "nbformat_minor": 0,
  "metadata": {
    "colab": {
      "name": "Ocean_Python_28_09_2020.ipynb",
      "provenance": [],
      "collapsed_sections": [],
      "authorship_tag": "ABX9TyNePgdqMpSMtdKZxR0irC4O",
      "include_colab_link": true
    },
    "kernelspec": {
      "name": "python3",
      "display_name": "Python 3"
    }
  },
  "cells": [
    {
      "cell_type": "markdown",
      "metadata": {
        "id": "view-in-github",
        "colab_type": "text"
      },
      "source": [
        "<a href=\"https://colab.research.google.com/github/paulosalvatore/Ocean_Python_28_09_2020/blob/master/introducao.ipynb\" target=\"_parent\"><img src=\"https://colab.research.google.com/assets/colab-badge.svg\" alt=\"Open In Colab\"/></a>"
      ]
    },
    {
      "cell_type": "markdown",
      "metadata": {
        "id": "yryvwg2XvC7Q"
      },
      "source": [
        "# Linguagem Python: conhecendo a linguagem\n",
        "\n",
        "## Softwares - Editores de texto\n",
        "\n",
        "Sublime Text (Grátis) (https://www.sublimetext.com/3)\n",
        "\n",
        "Notepad++ (Grátis) (https://notepad-plus-plus.org/downloads/)\n",
        "\n",
        "## Softwares - IDEs\n",
        "\n",
        "PyCharm - Professional (Pago) ou Community (Grátis) (https://www.jetbrains.com/pt-br/pycharm/download/)\n",
        "\n",
        "PyCharm Edu (Grátis) - (https://www.jetbrains.com/pt-br/pycharm-edu/)\n",
        "\n",
        "# História\n",
        "\n",
        "* Criada em 1991;\n",
        "* Influenciada pelo Java, influenciou o JavaScript;\n",
        "* Sem Fins Lucrativos;\n",
        "* YouTube, Google, Yahoo!, NASA;\n",
        "* Inteligência Artificial, Machine Learning, Deep Learning, Ciência de Dados;\n",
        "* Segurança da Informação;\n",
        "* Linguagem de Script para diversas ferramentas poderosas."
      ]
    },
    {
      "cell_type": "code",
      "metadata": {
        "id": "vrtOT8Knuxdi",
        "outputId": "e40b717e-abf8-4de9-fd5e-a3d5d339f29e",
        "colab": {
          "base_uri": "https://localhost:8080/",
          "height": 34
        }
      },
      "source": [
        "print(\"Olá, mundo!\")"
      ],
      "execution_count": 1,
      "outputs": [
        {
          "output_type": "stream",
          "text": [
            "Olá, mundo!\n"
          ],
          "name": "stdout"
        }
      ]
    },
    {
      "cell_type": "code",
      "metadata": {
        "id": "Jfhehw9G092g"
      },
      "source": [
        "# Variáveis: armazenar informação na memória (RAM) para utilizar depois.\n",
        "\n",
        "variavel = 1"
      ],
      "execution_count": 2,
      "outputs": []
    },
    {
      "cell_type": "code",
      "metadata": {
        "id": "_zQRuKSF2Twh"
      },
      "source": [
        "variavel_string = \"Texto\"\n",
        "variavel_int = 1\n",
        "variavel_float = 1.23\n",
        "variavel_bool = True"
      ],
      "execution_count": 3,
      "outputs": []
    },
    {
      "cell_type": "code",
      "metadata": {
        "id": "jCOi720l3KF8",
        "outputId": "431f6a1a-b2a4-47dc-c978-31f214590554",
        "colab": {
          "base_uri": "https://localhost:8080/",
          "height": 34
        }
      },
      "source": [
        "print(variavel_string)"
      ],
      "execution_count": 4,
      "outputs": [
        {
          "output_type": "stream",
          "text": [
            "Texto\n"
          ],
          "name": "stdout"
        }
      ]
    },
    {
      "cell_type": "code",
      "metadata": {
        "id": "wgB8Jf4F3aSx",
        "outputId": "854f0411-e45b-424f-98c3-39b94ca22d15",
        "colab": {
          "base_uri": "https://localhost:8080/",
          "height": 203
        }
      },
      "source": [
        "# Quando der o erro de name '...' is not defined, é porque não encontrou a variável\n",
        "\n",
        "print(variavel_inexistente)"
      ],
      "execution_count": 13,
      "outputs": [
        {
          "output_type": "error",
          "ename": "NameError",
          "evalue": "ignored",
          "traceback": [
            "\u001b[0;31m---------------------------------------------------------------------------\u001b[0m",
            "\u001b[0;31mNameError\u001b[0m                                 Traceback (most recent call last)",
            "\u001b[0;32m<ipython-input-13-d4eb61222c31>\u001b[0m in \u001b[0;36m<module>\u001b[0;34m()\u001b[0m\n\u001b[1;32m      1\u001b[0m \u001b[0;31m# Quando der o erro de name '...' is not defined, é porque não encontrou a variável\u001b[0m\u001b[0;34m\u001b[0m\u001b[0;34m\u001b[0m\u001b[0;34m\u001b[0m\u001b[0m\n\u001b[1;32m      2\u001b[0m \u001b[0;34m\u001b[0m\u001b[0m\n\u001b[0;32m----> 3\u001b[0;31m \u001b[0mprint\u001b[0m\u001b[0;34m(\u001b[0m\u001b[0mvariavel_inexistente\u001b[0m\u001b[0;34m)\u001b[0m\u001b[0;34m\u001b[0m\u001b[0;34m\u001b[0m\u001b[0m\n\u001b[0m",
            "\u001b[0;31mNameError\u001b[0m: name 'variavel_inexistente' is not defined"
          ]
        }
      ]
    },
    {
      "cell_type": "code",
      "metadata": {
        "id": "ND5lLGMI6AM9",
        "outputId": "e8d1c071-146e-453c-fa14-5e524925da2a",
        "colab": {
          "base_uri": "https://localhost:8080/",
          "height": 35
        }
      },
      "source": [
        "# Esse é um comentário de uma linha\n",
        "\n",
        "\"\"\"\n",
        "Esse\n",
        "é\n",
        "um\n",
        "comentário\n",
        "com\n",
        "várias\n",
        "linhas\n",
        "\"\"\""
      ],
      "execution_count": 15,
      "outputs": [
        {
          "output_type": "execute_result",
          "data": {
            "application/vnd.google.colaboratory.intrinsic+json": {
              "type": "string"
            },
            "text/plain": [
              "'\\nEsse\\né\\num\\ncomentário\\ncom\\nvárias\\nlinhas\\n'"
            ]
          },
          "metadata": {
            "tags": []
          },
          "execution_count": 15
        }
      ]
    },
    {
      "cell_type": "code",
      "metadata": {
        "id": "-7Fek0iJ7XD9",
        "outputId": "c8303e98-4303-48c0-e227-7f9824ab1017",
        "colab": {
          "base_uri": "https://localhost:8080/",
          "height": 34
        }
      },
      "source": [
        "adicao = 10 + 5\n",
        "subtracao = 10 - 5\n",
        "multiplicacao = 10 * 5\n",
        "divisao = 10 / 5\n",
        "exponenciacao = 3 ** 10\n",
        "\n",
        "divisao_inteira = 25 // 2\n",
        "\n",
        "# 25 / 2 -> 12.5\n",
        "# 25 // 2 -> 12\n",
        "# 25 / 2, apenas nos inteiros, dá 12 e sobra 1\n",
        "\n",
        "resto_divisao_inteira = 50 % 10\n",
        "\n",
        "print(resto_divisao_inteira)"
      ],
      "execution_count": 30,
      "outputs": [
        {
          "output_type": "stream",
          "text": [
            "1\n"
          ],
          "name": "stdout"
        }
      ]
    },
    {
      "cell_type": "markdown",
      "metadata": {
        "id": "u4yJ35m480gf"
      },
      "source": [
        "# Exercício 1 - Praticando: Variáveis\n",
        "\n",
        "* Defina uma variável para o valor de uma refeição que custou R$ 42,54;\n",
        "* Defina uma variável para o valor da taxa de serviço que é de 10%;\n",
        "* Defina uma variável que calcula o valor total da conta (valor da refeição com a taxa de serviço adicional), fazendo o calculo com as duas variáveis anteriores;\n",
        "* Exiba o resultado no console."
      ]
    },
    {
      "cell_type": "code",
      "metadata": {
        "id": "5zz1jOai-FhR",
        "outputId": "f9d4a34c-c10d-41b4-eb5f-deb9d3fcf7e4",
        "colab": {
          "base_uri": "https://localhost:8080/",
          "height": 34
        }
      },
      "source": [
        "refeicao = 42.54\n",
        "taxa = 10\n",
        "valor_total = refeicao + refeicao * taxa / 100\n",
        "\n",
        "print(valor_total)"
      ],
      "execution_count": 49,
      "outputs": [
        {
          "output_type": "stream",
          "text": [
            "46.794\n"
          ],
          "name": "stdout"
        }
      ]
    },
    {
      "cell_type": "code",
      "metadata": {
        "id": "a5nQPufv_1_C",
        "outputId": "a2d06f17-452f-4171-b991-36f9c48c66e3",
        "colab": {
          "base_uri": "https://localhost:8080/",
          "height": 34
        }
      },
      "source": [
        "nome = \"Paulo\"\n",
        "sobrenome = \"Salvatore\"\n",
        "\n",
        "print(nome + \" \" + sobrenome) # União de duas informações na programação chama-se \"concatenação\""
      ],
      "execution_count": 52,
      "outputs": [
        {
          "output_type": "stream",
          "text": [
            "Paulo Salvatore\n"
          ],
          "name": "stdout"
        }
      ]
    },
    {
      "cell_type": "code",
      "metadata": {
        "id": "grA9Q7NDAbiw",
        "outputId": "c05ff785-296b-4b7e-e781-00c67b4187fd",
        "colab": {
          "base_uri": "https://localhost:8080/",
          "height": 34
        }
      },
      "source": [
        "print(\"R$ \" + str(valor_total))"
      ],
      "execution_count": 54,
      "outputs": [
        {
          "output_type": "stream",
          "text": [
            "R$ 46.794\n"
          ],
          "name": "stdout"
        }
      ]
    },
    {
      "cell_type": "code",
      "metadata": {
        "id": "9I7M3HlTA7Rf",
        "outputId": "2f172964-0015-4fc4-f105-28c901af1fcf",
        "colab": {
          "base_uri": "https://localhost:8080/",
          "height": 34
        }
      },
      "source": [
        "primeira_letra = nome[0]\n",
        "ultima_letra = sobrenome[0]\n",
        "\n",
        "print(primeira_letra + ultima_letra)"
      ],
      "execution_count": 57,
      "outputs": [
        {
          "output_type": "stream",
          "text": [
            "PS\n"
          ],
          "name": "stdout"
        }
      ]
    },
    {
      "cell_type": "code",
      "metadata": {
        "id": "8mQm1l-uBScM",
        "outputId": "14cc57b1-376d-47cd-cc42-feee6e6ce2b1",
        "colab": {
          "base_uri": "https://localhost:8080/",
          "height": 52
        }
      },
      "source": [
        "print(f\"O valor total da compra é de R$ {valor_total:.10f}\")\n",
        "\n",
        "print(f\"Número: {5:010}\") # Leading zeros\n",
        "# Antigamente: print(\"R$ {:.2f}\".format(valor_total))"
      ],
      "execution_count": 82,
      "outputs": [
        {
          "output_type": "stream",
          "text": [
            "O valor total da compra é de R$ 46.7940000000\n",
            "Número: 0000000005\n"
          ],
          "name": "stdout"
        }
      ]
    }
  ]
}